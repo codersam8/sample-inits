{
 "cells": [
  {
   "cell_type": "code",
   "execution_count": 10,
   "metadata": {},
   "outputs": [],
   "source": [
    "from peewee import *\n",
    "pg_db = PostgresqlDatabase('practise', user='miyagi', password='miyagi',host='0.0.0.0',\n",
    "                            port=5444)\n"
   ]
  },
  {
   "cell_type": "code",
   "execution_count": 11,
   "metadata": {},
   "outputs": [],
   "source": [
    "class Department(Model):\n",
    "    dept_id = CharField(primary_key=True)\n",
    "    name = CharField()\n",
    "    \n",
    "    \n",
    "    class Meta:\n",
    "        database = pg_db"
   ]
  },
  {
   "cell_type": "code",
   "execution_count": 12,
   "metadata": {},
   "outputs": [],
   "source": [
    "class Employee(Model):\n",
    "    name = CharField()\n",
    "    salary = IntegerField()\n",
    "    dept = ForeignKeyField(Department, backref='employees')\n",
    "    emp_id = CharField(primary_key=True)\n",
    "    \n",
    "    class Meta:\n",
    "        database = pg_db\n",
    "    "
   ]
  },
  {
   "cell_type": "code",
   "execution_count": 13,
   "metadata": {},
   "outputs": [
    {
     "data": {
      "text/plain": [
       "True"
      ]
     },
     "execution_count": 13,
     "metadata": {},
     "output_type": "execute_result"
    }
   ],
   "source": [
    "pg_db.connect()"
   ]
  },
  {
   "cell_type": "code",
   "execution_count": 15,
   "metadata": {},
   "outputs": [],
   "source": [
    "pg_db.create_tables([Employee])"
   ]
  },
  {
   "cell_type": "code",
   "execution_count": null,
   "metadata": {},
   "outputs": [],
   "source": [
    "pg_db.create_tables([Employee])"
   ]
  },
  {
   "cell_type": "code",
   "execution_count": 16,
   "metadata": {},
   "outputs": [],
   "source": [
    "platform = Department.create(dept_id='DEP1', name='platform')"
   ]
  },
  {
   "cell_type": "code",
   "execution_count": 17,
   "metadata": {},
   "outputs": [],
   "source": [
    "ui = Department.create(dept_id='DEP2', name='frontend')\n",
    "cs = Department.create(dept_id='DEP3', name='customer success')\n",
    "testing = Department.create(dept_id='DEP4', name='testing')"
   ]
  },
  {
   "cell_type": "code",
   "execution_count": 18,
   "metadata": {},
   "outputs": [],
   "source": [
    "sampath = Employee.create(name='Sampath', salary=10, dept='DEP1')"
   ]
  },
  {
   "cell_type": "code",
   "execution_count": 19,
   "metadata": {},
   "outputs": [],
   "source": [
    "chaitanya = Employee.create(name='Chaitanya', salary=12, dept='DEP1')\n",
    "navita = Employee.create(name='Navita', salary=8, dept='DEP1')\n"
   ]
  },
  {
   "cell_type": "code",
   "execution_count": 24,
   "metadata": {},
   "outputs": [],
   "source": [
    "# rajat = Employee.create(name='Rajat', salary=10, dept='DEP2')\n",
    "mike = Employee.create(name='Mike', salary=12, dept='DEP2')"
   ]
  },
  {
   "cell_type": "code",
   "execution_count": 23,
   "metadata": {},
   "outputs": [],
   "source": [
    "pg_db.commit()"
   ]
  },
  {
   "cell_type": "code",
   "execution_count": null,
   "metadata": {},
   "outputs": [],
   "source": []
  }
 ],
 "metadata": {
  "kernelspec": {
   "display_name": "Python 3",
   "language": "python",
   "name": "python3"
  },
  "language_info": {
   "codemirror_mode": {
    "name": "ipython",
    "version": 3
   },
   "file_extension": ".py",
   "mimetype": "text/x-python",
   "name": "python",
   "nbconvert_exporter": "python",
   "pygments_lexer": "ipython3",
   "version": "3.8.0"
  }
 },
 "nbformat": 4,
 "nbformat_minor": 4
}
