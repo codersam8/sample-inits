{
 "cells": [
  {
   "cell_type": "code",
   "execution_count": 4,
   "metadata": {},
   "outputs": [],
   "source": [
    "# docker run  --rm --name practise -p 5444:5432 -v practise:/var/lib/postgresql/data  postgres\n",
    "# docker exec -it practise psql -U miyagi -d practise         \n",
    "from peewee import *\n",
    "pg_db = PostgresqlDatabase('practise', user='miyagi', password='miyagi',host='0.0.0.0',\n",
    "                            port=5444)\n"
   ]
  },
  {
   "cell_type": "code",
   "execution_count": 5,
   "metadata": {},
   "outputs": [],
   "source": [
    "class Student(Model):\n",
    "    name = CharField()\n",
    "    \n",
    "    class Meta:\n",
    "        database = pg_db"
   ]
  },
  {
   "cell_type": "code",
   "execution_count": 6,
   "metadata": {},
   "outputs": [],
   "source": [
    "class Teacher(Model):\n",
    "    name = CharField()\n",
    "    \n",
    "    class Meta:\n",
    "        database = pg_db"
   ]
  },
  {
   "cell_type": "code",
   "execution_count": 35,
   "metadata": {},
   "outputs": [],
   "source": [
    "import datetime\n",
    "class Classs(Model):\n",
    "    start_time = DateTimeField(default=datetime.datetime.now)\n",
    "    end_time = DateTimeField(default=datetime.datetime.now)\n",
    "    teacher = ForeignKeyField(Teacher, backref='teacher')\n",
    "    name = CharField()\n",
    "    status = CharField()\n",
    "    class Meta:\n",
    "        database = pg_db"
   ]
  },
  {
   "cell_type": "code",
   "execution_count": 27,
   "metadata": {},
   "outputs": [],
   "source": [
    "class Attended(Model):\n",
    "    student = ForeignKeyField(Student)\n",
    "    classs = ForeignKeyField(Classs)\n",
    "    class Meta:\n",
    "        database = pg_db"
   ]
  },
  {
   "cell_type": "code",
   "execution_count": 12,
   "metadata": {},
   "outputs": [
    {
     "ename": "OperationalError",
     "evalue": "Connection already opened.",
     "output_type": "error",
     "traceback": [
      "\u001b[0;31m---------------------------------------------------------------------------\u001b[0m",
      "\u001b[0;31mOperationalError\u001b[0m                          Traceback (most recent call last)",
      "\u001b[0;32m<ipython-input-12-6d0c2d99e18d>\u001b[0m in \u001b[0;36m<module>\u001b[0;34m\u001b[0m\n\u001b[0;32m----> 1\u001b[0;31m \u001b[0mpg_db\u001b[0m\u001b[0;34m.\u001b[0m\u001b[0mconnect\u001b[0m\u001b[0;34m(\u001b[0m\u001b[0;34m)\u001b[0m\u001b[0;34m\u001b[0m\u001b[0;34m\u001b[0m\u001b[0m\n\u001b[0m",
      "\u001b[0;32m~/.pyenv/versions/3.8.0/envs/compenv/lib/python3.8/site-packages/peewee.py\u001b[0m in \u001b[0;36mconnect\u001b[0;34m(self, reuse_if_open)\u001b[0m\n\u001b[1;32m   3029\u001b[0m                 \u001b[0;32mif\u001b[0m \u001b[0mreuse_if_open\u001b[0m\u001b[0;34m:\u001b[0m\u001b[0;34m\u001b[0m\u001b[0;34m\u001b[0m\u001b[0m\n\u001b[1;32m   3030\u001b[0m                     \u001b[0;32mreturn\u001b[0m \u001b[0;32mFalse\u001b[0m\u001b[0;34m\u001b[0m\u001b[0;34m\u001b[0m\u001b[0m\n\u001b[0;32m-> 3031\u001b[0;31m                 \u001b[0;32mraise\u001b[0m \u001b[0mOperationalError\u001b[0m\u001b[0;34m(\u001b[0m\u001b[0;34m'Connection already opened.'\u001b[0m\u001b[0;34m)\u001b[0m\u001b[0;34m\u001b[0m\u001b[0;34m\u001b[0m\u001b[0m\n\u001b[0m\u001b[1;32m   3032\u001b[0m \u001b[0;34m\u001b[0m\u001b[0m\n\u001b[1;32m   3033\u001b[0m             \u001b[0mself\u001b[0m\u001b[0;34m.\u001b[0m\u001b[0m_state\u001b[0m\u001b[0;34m.\u001b[0m\u001b[0mreset\u001b[0m\u001b[0;34m(\u001b[0m\u001b[0;34m)\u001b[0m\u001b[0;34m\u001b[0m\u001b[0;34m\u001b[0m\u001b[0m\n",
      "\u001b[0;31mOperationalError\u001b[0m: Connection already opened."
     ]
    }
   ],
   "source": [
    "pg_db.connect()"
   ]
  },
  {
   "cell_type": "code",
   "execution_count": 36,
   "metadata": {},
   "outputs": [],
   "source": [
    "# pg_db.create_tables([Student, Teacher, Classs, Attended])\n",
    "pg_db.create_tables([Classs])\n",
    "# pg_db.create_tables([Attended])\n"
   ]
  },
  {
   "cell_type": "code",
   "execution_count": 37,
   "metadata": {},
   "outputs": [],
   "source": [
    "pg_db.commit()"
   ]
  },
  {
   "cell_type": "code",
   "execution_count": 14,
   "metadata": {},
   "outputs": [],
   "source": [
    "sampath = Student.create(name='Sampath')\n",
    "rajat = Student.create(name='Rajat')\n",
    "mayur = Student.create(name='Mayur')"
   ]
  },
  {
   "cell_type": "code",
   "execution_count": 15,
   "metadata": {},
   "outputs": [],
   "source": [
    "anu = Teacher.create(name='Anu')\n",
    "venkaiah = Teacher.create(name='Venkaiah')"
   ]
  },
  {
   "cell_type": "code",
   "execution_count": 42,
   "metadata": {},
   "outputs": [],
   "source": [
    "software_engg = Classs.create(teacher=anu, status='Completed', name='Software engg')\n",
    "crypt = Classs.create(teacher=venkaiah, status='Cancelled', name='Crypt')"
   ]
  },
  {
   "cell_type": "code",
   "execution_count": 43,
   "metadata": {},
   "outputs": [],
   "source": [
    "os = Classs.create(teacher=anu, status='Completed', name='OS')\n",
    "data = Classs.create(teacher=venkaiah, status='Cancelled', name='Data')"
   ]
  },
  {
   "cell_type": "code",
   "execution_count": 41,
   "metadata": {},
   "outputs": [],
   "source": [
    "pg_db.commit()"
   ]
  },
  {
   "cell_type": "code",
   "execution_count": 44,
   "metadata": {},
   "outputs": [
    {
     "data": {
      "text/plain": [
       "<Attended: 9>"
      ]
     },
     "execution_count": 44,
     "metadata": {},
     "output_type": "execute_result"
    }
   ],
   "source": [
    "Attended.create(student=sampath, classs=os)\n",
    "Attended.create(student=rajat, classs=os)\n",
    "Attended.create(student=mayur, classs=data)"
   ]
  },
  {
   "cell_type": "code",
   "execution_count": 45,
   "metadata": {},
   "outputs": [
    {
     "data": {
      "text/plain": [
       "<Attended: 12>"
      ]
     },
     "execution_count": 45,
     "metadata": {},
     "output_type": "execute_result"
    }
   ],
   "source": [
    "Attended.create(student=sampath, classs=software_engg)\n",
    "Attended.create(student=rajat, classs=software_engg)\n",
    "Attended.create(student=mayur, classs=crypt)"
   ]
  },
  {
   "cell_type": "code",
   "execution_count": null,
   "metadata": {},
   "outputs": [],
   "source": [
    "# select s.name, c.end_time, c.status, c.name from student s, classs c where c.end_time = (select max(c.end_time) from classs c where c.status = 'Completed');"
   ]
  }
 ],
 "metadata": {
  "kernelspec": {
   "display_name": "Python 3",
   "language": "python",
   "name": "python3"
  },
  "language_info": {
   "codemirror_mode": {
    "name": "ipython",
    "version": 3
   },
   "file_extension": ".py",
   "mimetype": "text/x-python",
   "name": "python",
   "nbconvert_exporter": "python",
   "pygments_lexer": "ipython3",
   "version": "3.8.0"
  }
 },
 "nbformat": 4,
 "nbformat_minor": 4
}
